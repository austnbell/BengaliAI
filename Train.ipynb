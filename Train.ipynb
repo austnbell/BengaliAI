{
 "cells": [
  {
   "cell_type": "markdown",
   "metadata": {},
   "source": [
    "## Train Script for Bengali AI models\n",
    "Load in model classes and processing scripts. Run training and evaluation here"
   ]
  },
  {
   "cell_type": "code",
   "execution_count": 1,
   "metadata": {},
   "outputs": [],
   "source": [
    "%load_ext autoreload\n",
    "%autoreload 2"
   ]
  },
  {
   "cell_type": "code",
   "execution_count": 2,
   "metadata": {},
   "outputs": [],
   "source": [
    "# Packages\n",
    "import torch\n",
    "import torchvision\n",
    "from torch.utils.data.sampler import WeightedRandomSampler\n",
    "from torch.utils.data import DataLoader\n",
    "from torch.autograd import Variable\n",
    "\n",
    "\n",
    "from model.modelBase import *\n",
    "from model.wrapperModel import *\n",
    "from utils.evalUtils import *\n",
    "from ProcessAndAugment import *"
   ]
  },
  {
   "cell_type": "code",
   "execution_count": 3,
   "metadata": {},
   "outputs": [],
   "source": [
    "# paths\n",
    "datadir = \"./data\"\n",
    "inputdir= datadir + \"/raw\"\n",
    "outputdir= datadir + \"/processed\""
   ]
  },
  {
   "cell_type": "code",
   "execution_count": 4,
   "metadata": {},
   "outputs": [
    {
     "name": "stdout",
     "output_type": "stream",
     "text": [
      "n_total 186\n"
     ]
    }
   ],
   "source": [
    "# Parameters\n",
    "device = torch.device(\"cuda:0\" if torch.cuda.is_available() else \"cpu\")\n",
    "batch_size=128\n",
    "\n",
    "n_grapheme = 168\n",
    "n_vowel = 11\n",
    "n_consonant = 7\n",
    "n_total = n_grapheme + n_vowel + n_consonant\n",
    "print('n_total', n_total)"
   ]
  },
  {
   "cell_type": "code",
   "execution_count": 5,
   "metadata": {},
   "outputs": [
    {
     "name": "stdout",
     "output_type": "stream",
     "text": [
      "predictor <class 'model.modelBase.densenet'>\n",
      "classifier <class 'model.wrapperModel.BengaliClassifier'>\n"
     ]
    }
   ],
   "source": [
    "# Model Selection\n",
    "\n",
    "# core model\n",
    "predictor = densenet(in_channels=1, out_dim=n_total).to(device)\n",
    "print('predictor', type(predictor))\n",
    "\n",
    "# select our wrapper class\n",
    "classifier = BengaliClassifier(predictor).to(device)\n",
    "classifier.requires_grad = True\n",
    "\n",
    "print('classifier',type(classifier))"
   ]
  },
  {
   "cell_type": "code",
   "execution_count": 6,
   "metadata": {},
   "outputs": [],
   "source": [
    "# Model Parameters\n",
    "epochs = 10\n",
    "lr = .001 # TODO: starting with flat LR, but need to implement scheduler\n",
    "bs = 128\n",
    "\n",
    "optimizer = torch.optim.SGD(classifier.parameters(), lr=lr)\n",
    "\n",
    "\n",
    "# ignoring scheduler for now until we have baseline\n",
    "scheduler = torch.optim.lr_scheduler.ReduceLROnPlateau(\n",
    "    optimizer, mode='min', factor=0.7, patience=5, min_lr=1e-10)\n",
    "\n",
    "\n",
    "validate_every = 5 # TODO: validate every n batches or epochs\n",
    "checkpoint_every = 5 # TODO: implement model checkpoints"
   ]
  },
  {
   "cell_type": "markdown",
   "metadata": {},
   "source": [
    "## Prep Data\n",
    "Utilizes our process and data augmentation script"
   ]
  },
  {
   "cell_type": "code",
   "execution_count": 7,
   "metadata": {},
   "outputs": [
    {
     "name": "stdout",
     "output_type": "stream",
     "text": [
      "image_df_list 1\n",
      "~~Loaded Images~~\n",
      "~~Standardized Images~~\n",
      "(array([[0., 0., 0., ..., 0., 0., 0.],\n",
      "       [0., 0., 0., ..., 0., 0., 0.],\n",
      "       [0., 0., 0., ..., 0., 0., 0.],\n",
      "       ...,\n",
      "       [0., 0., 0., ..., 0., 0., 0.],\n",
      "       [0., 0., 0., ..., 0., 0., 0.],\n",
      "       [0., 0., 0., ..., 0., 0., 0.]], dtype=float32), array([15,  9,  5], dtype=int64))\n"
     ]
    }
   ],
   "source": [
    "# load train file and generate dataset\n",
    "train = pd.read_csv(datadir+'/train.csv')\n",
    "indices = [0] # just set to list of all indices when actually training\n",
    "dataset, crop_rsz_img = genDataset(indices, inputdir, data_type = \"train\", train = train) # generates the dataset class\n",
    "\n",
    "print(dataset.get_example(0))\n"
   ]
  },
  {
   "cell_type": "code",
   "execution_count": 8,
   "metadata": {},
   "outputs": [],
   "source": [
    "# our weights for the weighted random sampler for each epoch\n",
    "consonant_weights = genWeightTensor(\"consonant_diacritic\", train[:len(crop_rsz_img)])\n",
    "root_weights = genWeightTensor(\"grapheme_root\", train[:len(crop_rsz_img)])\n",
    "vowel_weights = genWeightTensor(\"vowel_diacritic\", train[:len(crop_rsz_img)])\n",
    "grapheme_weights = genWeightTensor(\"grapheme\", train[:len(crop_rsz_img)])\n",
    "\n",
    "weights = {\"consonant_diacritic\": consonant_weights,\n",
    "           \"grapheme_root\": root_weights,\n",
    "           \"vowel_diacritic\": vowel_weights,\n",
    "           \"grapheme\": grapheme_weights}\n",
    "\n",
    "#weight_keys = list(weights.keys())\n",
    "# can change the focus of the sampler like so\n",
    "weight_keys = ['grapheme', 'grapheme_root', 'vowel_diacritic', 'consonant_diacritic', 'grapheme', 'grapheme_root']"
   ]
  },
  {
   "cell_type": "markdown",
   "metadata": {},
   "source": [
    "## Training"
   ]
  },
  {
   "cell_type": "code",
   "execution_count": null,
   "metadata": {},
   "outputs": [
    {
     "name": "stdout",
     "output_type": "stream",
     "text": [
      "0 grapheme\n",
      "{'loss': 5.858402729034424, 'loss_grapheme': 4.046599388122559, 'loss_vowel': 1.0486302375793457, 'loss_consonant': 0.7631732821464539, 'acc_grapheme': tensor(0.0882, device='cuda:0'), 'acc_vowel': tensor(0.5882, device='cuda:0'), 'acc_consonant': tensor(0.7353, device='cuda:0')}\n",
      "1 grapheme_root\n",
      "{'loss': 5.1883864402771, 'loss_grapheme': 3.2126145362854004, 'loss_vowel': 1.2205678224563599, 'loss_consonant': 0.7552042603492737, 'acc_grapheme': tensor(0.2353, device='cuda:0'), 'acc_vowel': tensor(0.5294, device='cuda:0'), 'acc_consonant': tensor(0.6765, device='cuda:0')}\n",
      "2 vowel_diacritic\n",
      "{'loss': 4.680876731872559, 'loss_grapheme': 3.026343822479248, 'loss_vowel': 0.9334233999252319, 'loss_consonant': 0.7211093902587891, 'acc_grapheme': tensor(0.2941, device='cuda:0'), 'acc_vowel': tensor(0.6471, device='cuda:0'), 'acc_consonant': tensor(0.7353, device='cuda:0')}\n",
      "3 consonant_diacritic\n",
      "{'loss': 4.369133949279785, 'loss_grapheme': 2.6501224040985107, 'loss_vowel': 0.8149975538253784, 'loss_consonant': 0.9040142893791199, 'acc_grapheme': tensor(0.3824, device='cuda:0'), 'acc_vowel': tensor(0.6765, device='cuda:0'), 'acc_consonant': tensor(0.6471, device='cuda:0')}\n",
      "4 grapheme\n",
      "{'loss': 4.220436096191406, 'loss_grapheme': 2.8747470378875732, 'loss_vowel': 0.9361559152603149, 'loss_consonant': 0.4095327854156494, 'acc_grapheme': tensor(0.2647, device='cuda:0'), 'acc_vowel': tensor(0.5588, device='cuda:0'), 'acc_consonant': tensor(0.8529, device='cuda:0')}\n",
      "5 grapheme_root\n"
     ]
    }
   ],
   "source": [
    "# testing without sampler for now\n",
    "train_loader = DataLoader(dataset, batch_size=bs, shuffle = True)\n",
    "num_batches = len(train_loader)\n",
    "\n",
    "for i, wkey in zip(range(epochs), itertools.cycle(weight_keys)):\n",
    "    print(i, wkey)\n",
    "    \n",
    "    # generate sampler and loader specific to epoch\n",
    "    wgt_val = weights[wkey]\n",
    "    #sampler = WeightedRandomSampler(wgt_val, len(wgt_val))\n",
    "    #train_loader = DataLoader(dataset, batch_size=bs, sampler=sampler)\n",
    "    \n",
    "    # init\n",
    "    predictor.train()\n",
    "    classifier.train()\n",
    "    \n",
    "    for j, (images, labels) in enumerate(train_loader):\n",
    "        images = Variable(images).to(device)\n",
    "        labels = Variable(labels).to(device)\n",
    "        \n",
    "        # reset\n",
    "        optimizer.zero_grad()\n",
    "        \n",
    "        # run model - requires 4d float input\n",
    "        loss, metrics, pred = classifier(images.unsqueeze(1).float(), labels)\n",
    "        \n",
    "        # compute loss and step\n",
    "        loss.backward()\n",
    "        \n",
    "        optimizer.step()\n",
    "        \n",
    "    print(metrics)"
   ]
  },
  {
   "cell_type": "code",
   "execution_count": null,
   "metadata": {},
   "outputs": [],
   "source": []
  }
 ],
 "metadata": {
  "kernelspec": {
   "display_name": "Python 3",
   "language": "python",
   "name": "python3"
  },
  "language_info": {
   "codemirror_mode": {
    "name": "ipython",
    "version": 3
   },
   "file_extension": ".py",
   "mimetype": "text/x-python",
   "name": "python",
   "nbconvert_exporter": "python",
   "pygments_lexer": "ipython3",
   "version": "3.7.0"
  }
 },
 "nbformat": 4,
 "nbformat_minor": 2
}
