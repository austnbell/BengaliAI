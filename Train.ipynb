{
 "cells": [
  {
   "cell_type": "markdown",
   "metadata": {},
   "source": [
    "## Train Script for Bengali AI models\n",
    "Load in model classes and processing scripts. Run training and evaluation here"
   ]
  },
  {
   "cell_type": "code",
   "execution_count": 1,
   "metadata": {},
   "outputs": [],
   "source": [
    "%load_ext autoreload\n",
    "%autoreload 2"
   ]
  },
  {
   "cell_type": "code",
   "execution_count": 2,
   "metadata": {},
   "outputs": [],
   "source": [
    "# Packages\n",
    "import torch\n",
    "import torchvision\n",
    "from torch.utils.data.sampler import WeightedRandomSampler\n",
    "from torch.utils.data import DataLoader\n",
    "from torch.autograd import Variable\n",
    "\n",
    "\n",
    "from model.modelBase import *\n",
    "from model.wrapperModel import *\n",
    "from utils.evalUtils import *\n",
    "from ProcessAndAugment import *"
   ]
  },
  {
   "cell_type": "code",
   "execution_count": 3,
   "metadata": {},
   "outputs": [],
   "source": [
    "# paths\n",
    "datadir = \"./data\"\n",
    "inputdir= datadir + \"/raw\"\n",
    "outputdir= datadir + \"/processed\""
   ]
  },
  {
   "cell_type": "code",
   "execution_count": 4,
   "metadata": {},
   "outputs": [
    {
     "name": "stdout",
     "output_type": "stream",
     "text": [
      "n_total 186\n"
     ]
    }
   ],
   "source": [
    "# Parameters\n",
    "device = torch.device(\"cuda:0\" if torch.cuda.is_available() else \"cpu\")\n",
    "batch_size=32\n",
    "\n",
    "n_grapheme = 168\n",
    "n_vowel = 11\n",
    "n_consonant = 7\n",
    "n_total = n_grapheme + n_vowel + n_consonant\n",
    "print('n_total', n_total)"
   ]
  },
  {
   "cell_type": "code",
   "execution_count": 5,
   "metadata": {},
   "outputs": [
    {
     "name": "stdout",
     "output_type": "stream",
     "text": [
      "predictor <class 'model.modelBase.densenet'>\n",
      "classifier <class 'model.wrapperModel.BengaliClassifier'>\n"
     ]
    }
   ],
   "source": [
    "# Model Selection\n",
    "\n",
    "# core model\n",
    "predictor = densenet(in_channels=1, out_dim=n_total).to(device)\n",
    "print('predictor', type(predictor))\n",
    "\n",
    "# select our wrapper class\n",
    "classifier = BengaliClassifier(predictor).to(device)\n",
    "print('classifier',type(classifier))"
   ]
  },
  {
   "cell_type": "code",
   "execution_count": 6,
   "metadata": {},
   "outputs": [],
   "source": [
    "# Model Parameters\n",
    "epochs = 10\n",
    "lr = .001 # TODO: starting with flat LR, but need to implement scheduler\n",
    "bs = 64\n",
    "\n",
    "optimizer = torch.optim.Adam(classifier.parameters(), lr=lr)\n",
    "\n",
    "\n",
    "# ignoring scheduler for now until we have baseline\n",
    "scheduler = torch.optim.lr_scheduler.ReduceLROnPlateau(\n",
    "    optimizer, mode='min', factor=0.7, patience=5, min_lr=1e-10)\n",
    "\n",
    "\n",
    "validate_every = 5 # TODO: validate every n batches or epochs\n",
    "checkpoint_every = 5 # TODO: implement model checkpoints"
   ]
  },
  {
   "cell_type": "markdown",
   "metadata": {},
   "source": [
    "## Prep Data\n",
    "Utilizes our process and data augmentation script"
   ]
  },
  {
   "cell_type": "code",
   "execution_count": 7,
   "metadata": {},
   "outputs": [
    {
     "name": "stdout",
     "output_type": "stream",
     "text": [
      "image_df_list 1\n",
      "~~Loaded Images~~\n",
      "~~Standardized Images~~\n",
      "(array([[0., 0., 0., ..., 0., 0., 0.],\n",
      "       [0., 0., 0., ..., 0., 0., 0.],\n",
      "       [0., 0., 0., ..., 0., 0., 0.],\n",
      "       ...,\n",
      "       [0., 0., 0., ..., 0., 0., 0.],\n",
      "       [0., 0., 0., ..., 0., 0., 0.],\n",
      "       [0., 0., 0., ..., 0., 0., 0.]], dtype=float32), array([15,  9,  5], dtype=int64))\n"
     ]
    }
   ],
   "source": [
    "# load train file and generate dataset\n",
    "train = pd.read_csv(datadir+'/train.csv')\n",
    "indices = [0] # just set to list of all indices when actually training\n",
    "dataset, crop_rsz_img = genDataset(indices, inputdir, train = train) # generates the dataset class\n",
    "\n",
    "print(dataset.get_example(0))\n"
   ]
  },
  {
   "cell_type": "code",
   "execution_count": 8,
   "metadata": {},
   "outputs": [],
   "source": [
    "# our weights for the weighted random sampler for each epoch\n",
    "consonant_weights = genWeightTensor(\"consonant_diacritic\", train[:len(crop_rsz_img)])\n",
    "root_weights = genWeightTensor(\"grapheme_root\", train[:len(crop_rsz_img)])\n",
    "vowel_weights = genWeightTensor(\"vowel_diacritic\", train[:len(crop_rsz_img)])\n",
    "grapheme_weights = genWeightTensor(\"grapheme\", train[:len(crop_rsz_img)])\n",
    "\n",
    "weights = {\"consonant_diacritic\": consonant_weights,\n",
    "           \"grapheme_root\": root_weights,\n",
    "           \"vowel_diacritic\": vowel_weights,\n",
    "           \"grapheme\": grapheme_weights}\n",
    "\n",
    "#weight_keys = list(weights.keys())\n",
    "# can change the focus of the sampler like so\n",
    "weight_keys = ['grapheme', 'grapheme_root', 'vowel_diacritic', 'consonant_diacritic', 'grapheme', 'grapheme_root']"
   ]
  },
  {
   "cell_type": "markdown",
   "metadata": {},
   "source": [
    "## Training"
   ]
  },
  {
   "cell_type": "code",
   "execution_count": null,
   "metadata": {},
   "outputs": [
    {
     "name": "stdout",
     "output_type": "stream",
     "text": [
      "0 consonant_diacritic\n"
     ]
    },
    {
     "name": "stderr",
     "output_type": "stream",
     "text": [
      "C:\\Users\\ABell\\Anaconda3\\lib\\site-packages\\torch\\utils\\data\\sampler.py:115: UserWarning: To copy construct from a tensor, it is recommended to use sourceTensor.clone().detach() or sourceTensor.clone().detach().requires_grad_(True), rather than torch.tensor(sourceTensor).\n",
      "  self.weights = torch.tensor(weights, dtype=torch.double)\n"
     ]
    },
    {
     "name": "stdout",
     "output_type": "stream",
     "text": [
      "{'loss': 4.869107246398926, 'loss_grapheme': 2.893148422241211, 'loss_vowel': 0.9825469851493835, 'loss_consonant': 0.9934120178222656, 'acc_grapheme': tensor(0.4118, device='cuda:0'), 'acc_vowel': tensor(0.7941, device='cuda:0'), 'acc_consonant': tensor(0.7059, device='cuda:0')}\n",
      "1 grapheme_root\n",
      "{'loss': 5.132531642913818, 'loss_grapheme': 3.5412003993988037, 'loss_vowel': 0.9875807166099548, 'loss_consonant': 0.6037505865097046, 'acc_grapheme': tensor(0.2941, device='cuda:0'), 'acc_vowel': tensor(0.7647, device='cuda:0'), 'acc_consonant': tensor(0.9412, device='cuda:0')}\n",
      "2 vowel_diacritic\n"
     ]
    }
   ],
   "source": [
    "for i, wkey in zip(range(epochs), itertools.cycle(weight_keys)):\n",
    "    print(i, wkey)\n",
    "    \n",
    "    # generate sampler and loader specific to epoch\n",
    "    wgt_val = weights[wkey]\n",
    "    sampler = WeightedRandomSampler(wgt_val, len(wgt_val))\n",
    "    train_loader = DataLoader(dataset, batch_size=bs, sampler=sampler)\n",
    "    num_batches = len(train_loader)\n",
    "    \n",
    "    # init\n",
    "    predictor.train()\n",
    "    classifier.train()\n",
    "    \n",
    "    for j, (images, labels) in enumerate(train_loader):\n",
    "        images = Variable(images).to(device)\n",
    "        labels = Variable(labels).to(device)\n",
    "        \n",
    "        # reset\n",
    "        optimizer.zero_grad()\n",
    "        \n",
    "        # run model - requires 4d float input\n",
    "        loss, metrics, pred = classifier(images.unsqueeze(1).float(), labels)\n",
    "        \n",
    "        # compute loss and step\n",
    "        loss.backward()\n",
    "        \n",
    "        optimizer.step()\n",
    "        \n",
    "    print(metrics)"
   ]
  },
  {
   "cell_type": "code",
   "execution_count": null,
   "metadata": {},
   "outputs": [],
   "source": []
  }
 ],
 "metadata": {
  "kernelspec": {
   "display_name": "Python 3",
   "language": "python",
   "name": "python3"
  },
  "language_info": {
   "codemirror_mode": {
    "name": "ipython",
    "version": 3
   },
   "file_extension": ".py",
   "mimetype": "text/x-python",
   "name": "python",
   "nbconvert_exporter": "python",
   "pygments_lexer": "ipython3",
   "version": "3.7.0"
  }
 },
 "nbformat": 4,
 "nbformat_minor": 2
}
