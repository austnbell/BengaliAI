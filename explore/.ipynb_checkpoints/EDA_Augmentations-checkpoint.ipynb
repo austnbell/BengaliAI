{
 "cells": [
  {
   "cell_type": "markdown",
   "metadata": {},
   "source": [
    "# EDA for Data Processing and Augmentations Script\n",
    "Generates a processed training dataset from which we can train our algorithm\n",
    "\n",
    "Includes:\n",
    "  * cropping and resizing the data\n",
    "  * Applying a gridmask\n",
    "  * Shift Scale and Rotate\n",
    "  * Change either Brightness or contrast\n",
    "  * Add Gaussian Blur or noise\n",
    "  * Finally, we oversample to handle the class imbalances \n",
    "  \n",
    "All of these (except crop and resize) occur with probability (p < 1). \n",
    "\n",
    "Results are exported to a new parquet file to be used for training. But augmentations are written in functions so that they can be changed on the fly for different models. "
   ]
  },
  {
   "cell_type": "code",
   "execution_count": 1,
   "metadata": {
    "scrolled": true
   },
   "outputs": [],
   "source": [
    "import gc\n",
    "import os\n",
    "import random\n",
    "import sys\n",
    "import albumentations as A\n",
    "import pyarrow\n",
    "import cv2\n",
    "\n",
    "from tqdm import tqdm\n",
    "import numpy as np # linear algebra\n",
    "import pandas as pd # data processing, CSV file I/O (e.g. pd.read_csv)\n",
    "\n",
    "import matplotlib.pyplot as plt\n",
    "import seaborn as sns\n",
    "\n",
    "from IPython.core.display import display, HTML"
   ]
  },
  {
   "cell_type": "code",
   "execution_count": 6,
   "metadata": {},
   "outputs": [
    {
     "data": {
      "text/plain": [
       "'../data/raw'"
      ]
     },
     "execution_count": 6,
     "metadata": {},
     "output_type": "execute_result"
    }
   ],
   "source": [
    "# Paths\n",
    "datadir = \"../data\"\n",
    "inputdir= datadir + \"/raw\"\n",
    "outputdir= datadir + \"/processed\"\n",
    "inputdir"
   ]
  },
  {
   "cell_type": "code",
   "execution_count": 7,
   "metadata": {},
   "outputs": [],
   "source": [
    "# Parameters\n",
    "HEIGHT = 137\n",
    "WIDTH = 236\n",
    "SIZE = 128"
   ]
  },
  {
   "cell_type": "markdown",
   "metadata": {},
   "source": [
    "## Load images"
   ]
  },
  {
   "cell_type": "code",
   "execution_count": 8,
   "metadata": {},
   "outputs": [],
   "source": [
    "# during submission, we have to revert back to normal parquet but for now we can use feather\n",
    "def prepare_image(datadir, data_type, submission=False, indices=[0, 1, 2, 3]):\n",
    "    assert data_type in ['train', 'test']\n",
    "    if submission:\n",
    "        image_df_list = [pd.read_parquet(datadir + f'/{data_type}_image_data_{i}.parquet')\n",
    "                         for i in indices]\n",
    "    else:\n",
    "        image_df_list = [pd.read_feather(datadir + f'/{data_type}_image_data_{i}.feather')\n",
    "                         for i in indices]\n",
    "\n",
    "    print('image_df_list', len(image_df_list))\n",
    "    HEIGHT = 137\n",
    "    WIDTH = 236\n",
    "    \n",
    "    #somehow the original input is inverted\n",
    "    images = [df.iloc[:, 1:].values.reshape(-1, HEIGHT, WIDTH) for df in image_df_list]\n",
    "    \n",
    "    del image_df_list\n",
    "    gc.collect()\n",
    "    images = np.concatenate(images, axis=0)\n",
    "    return images"
   ]
  },
  {
   "cell_type": "code",
   "execution_count": 18,
   "metadata": {},
   "outputs": [
    {
     "name": "stdout",
     "output_type": "stream",
     "text": [
      "image_df_list 1\n",
      "Wall time: 5.24 s\n"
     ]
    }
   ],
   "source": [
    "%%time\n",
    "\n",
    "# Load our data\n",
    "train = pd.read_csv(datadir+'/train.csv')\n",
    "train_labels = train[['grapheme_root', 'vowel_diacritic', 'consonant_diacritic']].values\n",
    "indices = [0] \n",
    "images = prepare_image(inputdir, data_type='train', submission=False, indices=indices)"
   ]
  },
  {
   "cell_type": "markdown",
   "metadata": {},
   "source": [
    "## Crop and Resize \n",
    "Applied to all images so that each has a standard 'base'"
   ]
  },
  {
   "cell_type": "code",
   "execution_count": 78,
   "metadata": {},
   "outputs": [
    {
     "data": {
      "text/plain": [
       "array([  0, 136], dtype=int64)"
      ]
     },
     "execution_count": 78,
     "metadata": {},
     "output_type": "execute_result"
    }
   ],
   "source": [
    "r = np.any(cv2.normalize(images[0], None, dtype=cv2.CV_32F), axis =1)\n",
    "#img0 = (255 - images[234]).astype(np.float32)\n",
    "#img = (img0*(255.0/img0.max())).astype(np.float32)\n",
    "#r=np.any(img, axis =1)\n",
    "np.where(r)[0][[0,-1]]"
   ]
  },
  {
   "cell_type": "code",
   "execution_count": 98,
   "metadata": {},
   "outputs": [],
   "source": [
    "# bounding box\n",
    "def bbox(img):\n",
    "    rows = np.any(img, axis=1)\n",
    "    cols = np.any(img, axis=0)\n",
    "    rmin, rmax = np.where(rows)[0][[0, -1]]\n",
    "    cmin, cmax = np.where(cols)[0][[0, -1]]\n",
    "    return rmin, rmax, cmin, cmax\n",
    "\n",
    "def crop_resize(img0, size=SIZE, pad=16):\n",
    "    #crop a box around pixels large than the threshold \n",
    "    #some images contain line at the sides\n",
    "    ymin,ymax,xmin,xmax = bbox(img0[5:-5,5:-5] > 80)\n",
    "    \n",
    "    #cropping may cut too much, so we need to add it back\n",
    "    xmin = xmin - 13 if (xmin > 13) else 0\n",
    "    ymin = ymin - 10 if (ymin > 10) else 0\n",
    "    xmax = xmax + 13 if (xmax < WIDTH - 13) else WIDTH\n",
    "    ymax = ymax + 10 if (ymax < HEIGHT - 10) else HEIGHT\n",
    "    img = img0[ymin:ymax,xmin:xmax]\n",
    "    \n",
    "    #remove low intensity pixels as noise\n",
    "    img[img < 28] = 0\n",
    "    lx, ly = xmax-xmin,ymax-ymin\n",
    "    l = max(lx,ly) + pad\n",
    "    \n",
    "    #make sure that the aspect ratio is kept in rescaling\n",
    "    img = np.pad(img, [((l-ly)//2,), ((l-lx)//2,)], mode='constant')\n",
    "    img = cv2.normalize(img+255, None, dtype=cv2.CV_32F)\n",
    "    return cv2.resize(img,(size,size))"
   ]
  },
  {
   "cell_type": "code",
   "execution_count": 101,
   "metadata": {},
   "outputs": [
    {
     "ename": "IndexError",
     "evalue": "index 0 is out of bounds for axis 0 with size 0",
     "output_type": "error",
     "traceback": [
      "\u001b[1;31m---------------------------------------------------------------------------\u001b[0m",
      "\u001b[1;31mIndexError\u001b[0m                                Traceback (most recent call last)",
      "\u001b[1;32m<ipython-input-101-0621a4319419>\u001b[0m in \u001b[0;36m<module>\u001b[1;34m\u001b[0m\n\u001b[0;32m     17\u001b[0m     \u001b[1;32mreturn\u001b[0m \u001b[0mcrop_rsz_img\u001b[0m\u001b[1;33m\u001b[0m\u001b[0m\n\u001b[0;32m     18\u001b[0m \u001b[1;33m\u001b[0m\u001b[0m\n\u001b[1;32m---> 19\u001b[1;33m \u001b[0mcrop_rsz_img\u001b[0m \u001b[1;33m=\u001b[0m \u001b[0mrunCropRsz\u001b[0m\u001b[1;33m(\u001b[0m\u001b[0mimages\u001b[0m\u001b[1;33m[\u001b[0m\u001b[1;33m:\u001b[0m\u001b[1;36m5\u001b[0m\u001b[1;33m]\u001b[0m\u001b[1;33m)\u001b[0m\u001b[1;33m\u001b[0m\u001b[0m\n\u001b[0m\u001b[0;32m     20\u001b[0m \u001b[1;33m\u001b[0m\u001b[0m\n\u001b[0;32m     21\u001b[0m \u001b[1;31m# confirm that processing worked\u001b[0m\u001b[1;33m\u001b[0m\u001b[1;33m\u001b[0m\u001b[0m\n",
      "\u001b[1;32m<ipython-input-101-0621a4319419>\u001b[0m in \u001b[0;36mrunCropRsz\u001b[1;34m(images)\u001b[0m\n\u001b[0;32m      8\u001b[0m         \u001b[0mimg\u001b[0m \u001b[1;33m=\u001b[0m \u001b[0mcv2\u001b[0m\u001b[1;33m.\u001b[0m\u001b[0mnormalize\u001b[0m\u001b[1;33m(\u001b[0m\u001b[0mimages\u001b[0m\u001b[1;33m[\u001b[0m\u001b[0midx\u001b[0m\u001b[1;33m]\u001b[0m\u001b[1;33m,\u001b[0m \u001b[1;32mNone\u001b[0m\u001b[1;33m,\u001b[0m \u001b[0mdtype\u001b[0m\u001b[1;33m=\u001b[0m\u001b[0mcv2\u001b[0m\u001b[1;33m.\u001b[0m\u001b[0mCV_32F\u001b[0m\u001b[1;33m)\u001b[0m\u001b[1;33m\u001b[0m\u001b[0m\n\u001b[0;32m      9\u001b[0m \u001b[1;33m\u001b[0m\u001b[0m\n\u001b[1;32m---> 10\u001b[1;33m         \u001b[0mimg\u001b[0m \u001b[1;33m=\u001b[0m \u001b[0mcrop_resize\u001b[0m\u001b[1;33m(\u001b[0m\u001b[0mimg\u001b[0m\u001b[1;33m)\u001b[0m\u001b[1;33m\u001b[0m\u001b[0m\n\u001b[0m\u001b[0;32m     11\u001b[0m \u001b[1;33m\u001b[0m\u001b[0m\n\u001b[0;32m     12\u001b[0m         \u001b[1;31m# add to our stored list\u001b[0m\u001b[1;33m\u001b[0m\u001b[1;33m\u001b[0m\u001b[0m\n",
      "\u001b[1;32m<ipython-input-98-44e34ca6b184>\u001b[0m in \u001b[0;36mcrop_resize\u001b[1;34m(img0, size, pad)\u001b[0m\n\u001b[0;32m     10\u001b[0m     \u001b[1;31m#crop a box around pixels large than the threshold\u001b[0m\u001b[1;33m\u001b[0m\u001b[1;33m\u001b[0m\u001b[0m\n\u001b[0;32m     11\u001b[0m     \u001b[1;31m#some images contain line at the sides\u001b[0m\u001b[1;33m\u001b[0m\u001b[1;33m\u001b[0m\u001b[0m\n\u001b[1;32m---> 12\u001b[1;33m     \u001b[0mymin\u001b[0m\u001b[1;33m,\u001b[0m\u001b[0mymax\u001b[0m\u001b[1;33m,\u001b[0m\u001b[0mxmin\u001b[0m\u001b[1;33m,\u001b[0m\u001b[0mxmax\u001b[0m \u001b[1;33m=\u001b[0m \u001b[0mbbox\u001b[0m\u001b[1;33m(\u001b[0m\u001b[0mimg0\u001b[0m\u001b[1;33m[\u001b[0m\u001b[1;36m5\u001b[0m\u001b[1;33m:\u001b[0m\u001b[1;33m-\u001b[0m\u001b[1;36m5\u001b[0m\u001b[1;33m,\u001b[0m\u001b[1;36m5\u001b[0m\u001b[1;33m:\u001b[0m\u001b[1;33m-\u001b[0m\u001b[1;36m5\u001b[0m\u001b[1;33m]\u001b[0m \u001b[1;33m>\u001b[0m \u001b[1;36m80\u001b[0m\u001b[1;33m)\u001b[0m\u001b[1;33m\u001b[0m\u001b[0m\n\u001b[0m\u001b[0;32m     13\u001b[0m \u001b[1;33m\u001b[0m\u001b[0m\n\u001b[0;32m     14\u001b[0m     \u001b[1;31m#cropping may cut too much, so we need to add it back\u001b[0m\u001b[1;33m\u001b[0m\u001b[1;33m\u001b[0m\u001b[0m\n",
      "\u001b[1;32m<ipython-input-98-44e34ca6b184>\u001b[0m in \u001b[0;36mbbox\u001b[1;34m(img)\u001b[0m\n\u001b[0;32m      3\u001b[0m     \u001b[0mrows\u001b[0m \u001b[1;33m=\u001b[0m \u001b[0mnp\u001b[0m\u001b[1;33m.\u001b[0m\u001b[0many\u001b[0m\u001b[1;33m(\u001b[0m\u001b[0mimg\u001b[0m\u001b[1;33m,\u001b[0m \u001b[0maxis\u001b[0m\u001b[1;33m=\u001b[0m\u001b[1;36m1\u001b[0m\u001b[1;33m)\u001b[0m\u001b[1;33m\u001b[0m\u001b[0m\n\u001b[0;32m      4\u001b[0m     \u001b[0mcols\u001b[0m \u001b[1;33m=\u001b[0m \u001b[0mnp\u001b[0m\u001b[1;33m.\u001b[0m\u001b[0many\u001b[0m\u001b[1;33m(\u001b[0m\u001b[0mimg\u001b[0m\u001b[1;33m,\u001b[0m \u001b[0maxis\u001b[0m\u001b[1;33m=\u001b[0m\u001b[1;36m0\u001b[0m\u001b[1;33m)\u001b[0m\u001b[1;33m\u001b[0m\u001b[0m\n\u001b[1;32m----> 5\u001b[1;33m     \u001b[0mrmin\u001b[0m\u001b[1;33m,\u001b[0m \u001b[0mrmax\u001b[0m \u001b[1;33m=\u001b[0m \u001b[0mnp\u001b[0m\u001b[1;33m.\u001b[0m\u001b[0mwhere\u001b[0m\u001b[1;33m(\u001b[0m\u001b[0mrows\u001b[0m\u001b[1;33m)\u001b[0m\u001b[1;33m[\u001b[0m\u001b[1;36m0\u001b[0m\u001b[1;33m]\u001b[0m\u001b[1;33m[\u001b[0m\u001b[1;33m[\u001b[0m\u001b[1;36m0\u001b[0m\u001b[1;33m,\u001b[0m \u001b[1;33m-\u001b[0m\u001b[1;36m1\u001b[0m\u001b[1;33m]\u001b[0m\u001b[1;33m]\u001b[0m\u001b[1;33m\u001b[0m\u001b[0m\n\u001b[0m\u001b[0;32m      6\u001b[0m     \u001b[0mcmin\u001b[0m\u001b[1;33m,\u001b[0m \u001b[0mcmax\u001b[0m \u001b[1;33m=\u001b[0m \u001b[0mnp\u001b[0m\u001b[1;33m.\u001b[0m\u001b[0mwhere\u001b[0m\u001b[1;33m(\u001b[0m\u001b[0mcols\u001b[0m\u001b[1;33m)\u001b[0m\u001b[1;33m[\u001b[0m\u001b[1;36m0\u001b[0m\u001b[1;33m]\u001b[0m\u001b[1;33m[\u001b[0m\u001b[1;33m[\u001b[0m\u001b[1;36m0\u001b[0m\u001b[1;33m,\u001b[0m \u001b[1;33m-\u001b[0m\u001b[1;36m1\u001b[0m\u001b[1;33m]\u001b[0m\u001b[1;33m]\u001b[0m\u001b[1;33m\u001b[0m\u001b[0m\n\u001b[0;32m      7\u001b[0m     \u001b[1;32mreturn\u001b[0m \u001b[0mrmin\u001b[0m\u001b[1;33m,\u001b[0m \u001b[0mrmax\u001b[0m\u001b[1;33m,\u001b[0m \u001b[0mcmin\u001b[0m\u001b[1;33m,\u001b[0m \u001b[0mcmax\u001b[0m\u001b[1;33m\u001b[0m\u001b[0m\n",
      "\u001b[1;31mIndexError\u001b[0m: index 0 is out of bounds for axis 0 with size 0"
     ]
    }
   ],
   "source": [
    "# run for all images \n",
    "def runCropRsz(images):\n",
    "    crop_rsz_img = []\n",
    "    for idx in range(len(images)):\n",
    "        img0 = (255 - images[idx]).astype(np.float32) \n",
    "        #normalize each image by its max val\n",
    "        img = (img0*(255.0/img0.max())).astype(np.float32)\n",
    "        #img = cv2.normalize(img0, None, dtype=cv2.CV_32F)\n",
    "        \n",
    "        img = crop_resize(img)\n",
    "\n",
    "        # add to our stored list\n",
    "        crop_rsz_img.append(img)\n",
    "\n",
    "    crop_rsz_img = np.array(crop_rsz_img)\n",
    "    \n",
    "    return crop_rsz_img\n",
    "\n",
    "crop_rsz_img = runCropRsz(images[:5])\n",
    "\n",
    "# confirm that processing worked\n",
    "n_imgs = 2\n",
    "fig, axs = plt.subplots(n_imgs, 2, figsize=(10, 5*n_imgs))\n",
    "\n",
    "for idx in range(n_imgs):\n",
    "    img0 = images[idx].astype(np.uint8)\n",
    "    img = crop_rsz_img[idx]\n",
    "    \n",
    "    axs[idx,0].imshow(img0)\n",
    "    axs[idx,0].set_title('Original image')\n",
    "    axs[idx,0].axis('off')\n",
    "    axs[idx,1].imshow(img)\n",
    "    axs[idx,1].set_title('Crop & resize')\n",
    "    axs[idx,1].axis('off')\n",
    "plt.show()"
   ]
  },
  {
   "cell_type": "code",
   "execution_count": 100,
   "metadata": {},
   "outputs": [
    {
     "data": {
      "text/plain": [
       "array([[0.00559924, 0.00559924, 0.00559924, ..., 0.00559924, 0.00559924,\n",
       "        0.00559924],\n",
       "       [0.00559924, 0.00559924, 0.00559924, ..., 0.00559924, 0.00559924,\n",
       "        0.00559924],\n",
       "       [0.00559924, 0.00559924, 0.00559924, ..., 0.00559924, 0.00559924,\n",
       "        0.00559924],\n",
       "       ...,\n",
       "       [0.00559924, 0.00559924, 0.00559924, ..., 0.00559924, 0.00559924,\n",
       "        0.00559924],\n",
       "       [0.00559924, 0.00559924, 0.00559924, ..., 0.00559924, 0.00559924,\n",
       "        0.00559924],\n",
       "       [0.00559924, 0.00559924, 0.00559924, ..., 0.00559924, 0.00559924,\n",
       "        0.00559924]], dtype=float32)"
      ]
     },
     "execution_count": 100,
     "metadata": {},
     "output_type": "execute_result"
    }
   ],
   "source": [
    "img"
   ]
  },
  {
   "cell_type": "markdown",
   "metadata": {},
   "source": [
    "## Generic Data Augmentations\n",
    "Utilizing albumentations\n",
    "\n",
    "We must keep in mind that we are working with handwriting, so we are limited to the augmentations that would be considered effective. For example, a letter would never be written sideways or upside down (but, it can rotate slightly) or it will never be flipped. \n",
    "\n",
    "In summary, we limit our augmentations to those that may actually be seen in real life"
   ]
  },
  {
   "cell_type": "code",
   "execution_count": 364,
   "metadata": {},
   "outputs": [],
   "source": [
    "# define our augmentations\n",
    "def augPipeline(P = .5):\n",
    "    return A.Compose([\n",
    "        A.IAAAdditiveGaussianNoise(p=.3),\n",
    "        A.OneOf([\n",
    "            A.MedianBlur(blur_limit=3, p=0.4),\n",
    "            A.Blur(blur_limit=1, p=0.4),\n",
    "        ], p=0.5),\n",
    "        A.ShiftScaleRotate(shift_limit=.1, scale_limit=0.0, rotate_limit=15, p=.75),\n",
    "        A.OneOf([\n",
    "            A.OpticalDistortion(p=.4),\n",
    "            A.GridDistortion(p=.2),\n",
    "            A.IAAPiecewiseAffine(p=.5),\n",
    "        ], p=.33)], p=P)"
   ]
  },
  {
   "cell_type": "code",
   "execution_count": 365,
   "metadata": {},
   "outputs": [
    {
     "data": {
      "text/plain": [
       "<matplotlib.image.AxesImage at 0x1e2d2ed2240>"
      ]
     },
     "execution_count": 365,
     "metadata": {},
     "output_type": "execute_result"
    },
    {
     "data": {
      "image/png": "[encoded data removed]",
      "text/plain": [
       "<Figure size 432x288 with 1 Axes>"
      ]
     },
     "metadata": {
      "needs_background": "light"
     },
     "output_type": "display_data"
    }
   ],
   "source": [
    "# testing\n",
    "img = dataset.get_example(0)[0]\n",
    "augmentation = augPipeline()\n",
    "aug_img = augmentation(image = img)['image']\n",
    "plt.imshow(aug_img)"
   ]
  },
  {
   "cell_type": "markdown",
   "metadata": {},
   "source": [
    "# Dataset Class\n",
    "Once we have our basic images, we push to a pytorch dataset and prepare for augmentations"
   ]
  },
  {
   "cell_type": "code",
   "execution_count": 461,
   "metadata": {},
   "outputs": [],
   "source": [
    "import six\n",
    "import torch\n",
    "from torch.utils.data import Dataset, DataLoader\n",
    "\n",
    "# wrapper\n",
    "class DatasetMixin(Dataset):\n",
    "\n",
    "    def __init__(self, transform=None):\n",
    "        self.transform = transform\n",
    "\n",
    "    def __getitem__(self, index):\n",
    "        \"\"\"Returns an example or a sequence of examples.\"\"\"\n",
    "        if torch.is_tensor(index):\n",
    "            index = index.tolist()\n",
    "        if isinstance(index, slice):\n",
    "            current, stop, step = index.indices(len(self))\n",
    "            return [self.get_example_wrapper(i) for i in\n",
    "                    six.moves.range(current, stop, step)]\n",
    "        elif isinstance(index, list) or isinstance(index, np.ndarray):\n",
    "            return [self.get_example_wrapper(i) for i in index]\n",
    "        else:\n",
    "            return self.get_example_wrapper(index)\n",
    "\n",
    "    def __len__(self):\n",
    "        \"\"\"Returns the number of data points.\"\"\"\n",
    "        raise NotImplementedError\n",
    "\n",
    "    def get_example_wrapper(self, i):\n",
    "        \"\"\"Wrapper of `get_example`, to apply `transform` if necessary\"\"\"\n",
    "        example = self.get_example(i)\n",
    "        if self.transform:\n",
    "            example_img = self.transform(image = example[0])['image']\n",
    "        return example_img, example[1]\n",
    "\n",
    "    def get_example(self, i):\n",
    "        \"\"\"Returns the i-th example.\n",
    "\n",
    "        Implementations should override it. It should raise :class:`IndexError`\n",
    "        if the index is invalid.\n",
    "\n",
    "        Args:\n",
    "            i (int): The index of the example.\n",
    "\n",
    "        Returns:\n",
    "            The i-th example.\n",
    "\n",
    "        \"\"\"\n",
    "        raise NotImplementedError"
   ]
  },
  {
   "cell_type": "code",
   "execution_count": 462,
   "metadata": {},
   "outputs": [],
   "source": [
    "# actual class\n",
    "class BengaliAIDataset(DatasetMixin):\n",
    "    def __init__(self, images, labels=None, transform=None, indices=None):\n",
    "        super(BengaliAIDataset, self).__init__(transform=transform)\n",
    "        self.images = images\n",
    "        self.labels = labels\n",
    "        if indices is None:\n",
    "            indices = np.arange(len(images))\n",
    "        self.indices = indices\n",
    "        self.train = labels is not None\n",
    "\n",
    "    def __len__(self):\n",
    "        \"\"\"return length of this dataset\"\"\"\n",
    "        return len(self.indices)\n",
    "\n",
    "    def get_example(self, i):\n",
    "        \"\"\"Return i-th data\"\"\"\n",
    "        i = self.indices[i]\n",
    "        x = self.images[i]\n",
    "        \n",
    "        # for future Affine transformation\n",
    "        x = x.astype(np.float32)\n",
    "        if self.train:\n",
    "            y = self.labels[i]\n",
    "            return x, y\n",
    "        else:\n",
    "            return x"
   ]
  },
  {
   "cell_type": "code",
   "execution_count": 469,
   "metadata": {},
   "outputs": [
    {
     "name": "stdout",
     "output_type": "stream",
     "text": [
      "image (128, 128) label [15  9  5]\n"
     ]
    }
   ],
   "source": [
    "dataset = BengaliAIDataset(crop_rsz_img, labels = train_labels[:len(crop_rsz_img)], transform = augmentation)  \n",
    "image, label = dataset[0]\n",
    "print('image', image.shape, 'label', label)"
   ]
  },
  {
   "cell_type": "code",
   "execution_count": 389,
   "metadata": {},
   "outputs": [
    {
     "name": "stderr",
     "output_type": "stream",
     "text": [
      "30it [00:00, 61.31it/s]\n"
     ]
    },
    {
     "data": {
      "image/png": "[encoded data removed]",
      "text/plain": [
       "<Figure size 1440x576 with 30 Axes>"
      ]
     },
     "metadata": {
      "needs_background": "light"
     },
     "output_type": "display_data"
    }
   ],
   "source": [
    "nrow, ncol = 5, 6\n",
    "\n",
    "fig, axes = plt.subplots(nrow, ncol, figsize=(20, 8))\n",
    "axes = axes.flatten()\n",
    "for i, ax in tqdm(enumerate(axes)):\n",
    "    image, label = dataset[i]\n",
    "    ax.imshow(image)\n",
    "    ax.set_title(f'label: {label}')\n",
    "plt.tight_layout()\n",
    "plt.show()\n"
   ]
  },
  {
   "cell_type": "markdown",
   "metadata": {},
   "source": [
    "## Balance our Classes\n",
    "there is an imbalance in our classes. There are two imbalances and therefore, there are two types of balancing that we can do.  We can balance according to the individual graphemes or we can balance according the whole character"
   ]
  },
  {
   "cell_type": "markdown",
   "metadata": {},
   "source": [
    "Thoughts on how to implement class balancing\n",
    "  * generate augmented data for the underrepresented labels\n",
    "  * then use a weighted sampler for whole class\n",
    "\n",
    "\n",
    "Character (i.e., solving multi-label class imbalance column wise)\n",
    "  * This is not a solved problem yet (or at least its not one with an easy python implementation)\n",
    "  * rather than spend a ton of time work on this, lets just select some of the underrepresented samples\n",
    "  * and duplicate these classes x times with augmentation p = 1\n",
    "    * the number of times to duplicate will be decided base on how often it appears in the dataset \n",
    "    \n",
    "    \n",
    "This is not going to work - or be way too much effort for the results\n",
    "I think the best way is to do a weighted resampler and just increase the data augmentation Prob and number of epochs "
   ]
  },
  {
   "cell_type": "code",
   "execution_count": 401,
   "metadata": {},
   "outputs": [
    {
     "name": "stdout",
     "output_type": "stream",
     "text": [
      "Index(['image_id', 'grapheme_root', 'vowel_diacritic', 'consonant_diacritic',\n",
      "       'grapheme'],\n",
      "      dtype='object')\n"
     ]
    },
    {
     "data": {
      "text/plain": [
       "য়ে        283\n",
       "দ্দা      178\n",
       "ঘ         178\n",
       "র্লি      177\n",
       "ঝু        177\n",
       "         ... \n",
       "ঠী        129\n",
       "ষ্ট্যা    128\n",
       "ঙ্কো      128\n",
       "ম্নী      126\n",
       "ক্ষ্ণ     118\n",
       "Name: grapheme, Length: 1295, dtype: int64"
      ]
     },
     "execution_count": 401,
     "metadata": {},
     "output_type": "execute_result"
    }
   ],
   "source": [
    "print(train.columns)\n",
    "train.grapheme.value_counts() # does not appear to be a huge imbalance at least for the entire graphemes"
   ]
  },
  {
   "cell_type": "code",
   "execution_count": 402,
   "metadata": {},
   "outputs": [
    {
     "data": {
      "text/plain": [
       "[5736,\n",
       " 5596,\n",
       " 5420,\n",
       " 5321,\n",
       " 5149,\n",
       " 4926,\n",
       " 4395,\n",
       " 4392,\n",
       " 4374,\n",
       " 4015,\n",
       " 3690,\n",
       " 3630,\n",
       " 3461,\n",
       " 3458,\n",
       " 3438,\n",
       " 3354,\n",
       " 3281,\n",
       " 2961,\n",
       " 2936,\n",
       " 2780,\n",
       " 2688,\n",
       " 2402,\n",
       " 2339,\n",
       " 2313,\n",
       " 2313,\n",
       " 2312,\n",
       " 2311,\n",
       " 2188,\n",
       " 2094,\n",
       " 2073,\n",
       " 1957,\n",
       " 1936,\n",
       " 1746,\n",
       " 1723,\n",
       " 1680,\n",
       " 1633,\n",
       " 1585,\n",
       " 1553,\n",
       " 1539,\n",
       " 1537,\n",
       " 1531,\n",
       " 1518,\n",
       " 1418,\n",
       " 1376,\n",
       " 1365,\n",
       " 1363,\n",
       " 1285,\n",
       " 1248,\n",
       " 1207,\n",
       " 1142,\n",
       " 1139,\n",
       " 1127,\n",
       " 1127,\n",
       " 1127,\n",
       " 1116,\n",
       " 1083,\n",
       " 1083,\n",
       " 1067,\n",
       " 1057,\n",
       " 1051,\n",
       " 1039,\n",
       " 1024,\n",
       " 978,\n",
       " 973,\n",
       " 957,\n",
       " 957,\n",
       " 952,\n",
       " 942,\n",
       " 940,\n",
       " 935,\n",
       " 934,\n",
       " 928,\n",
       " 927,\n",
       " 908,\n",
       " 886,\n",
       " 883,\n",
       " 868,\n",
       " 813,\n",
       " 796,\n",
       " 790,\n",
       " 787,\n",
       " 786,\n",
       " 768,\n",
       " 761,\n",
       " 760,\n",
       " 759,\n",
       " 757,\n",
       " 757,\n",
       " 751,\n",
       " 738,\n",
       " 732,\n",
       " 727,\n",
       " 637,\n",
       " 633,\n",
       " 631,\n",
       " 627,\n",
       " 627,\n",
       " 623,\n",
       " 622,\n",
       " 617,\n",
       " 612,\n",
       " 609,\n",
       " 607,\n",
       " 592,\n",
       " 580,\n",
       " 575,\n",
       " 562,\n",
       " 481,\n",
       " 480,\n",
       " 476,\n",
       " 475,\n",
       " 465,\n",
       " 462,\n",
       " 460,\n",
       " 458,\n",
       " 456,\n",
       " 452,\n",
       " 448,\n",
       " 444,\n",
       " 443,\n",
       " 437,\n",
       " 436,\n",
       " 426,\n",
       " 342,\n",
       " 337,\n",
       " 336,\n",
       " 336,\n",
       " 331,\n",
       " 326,\n",
       " 324,\n",
       " 321,\n",
       " 318,\n",
       " 317,\n",
       " 311,\n",
       " 308,\n",
       " 307,\n",
       " 305,\n",
       " 305,\n",
       " 302,\n",
       " 293,\n",
       " 292,\n",
       " 285,\n",
       " 278,\n",
       " 276,\n",
       " 175,\n",
       " 171,\n",
       " 168,\n",
       " 165,\n",
       " 164,\n",
       " 160,\n",
       " 159,\n",
       " 158,\n",
       " 157,\n",
       " 153,\n",
       " 152,\n",
       " 151,\n",
       " 151,\n",
       " 150,\n",
       " 149,\n",
       " 147,\n",
       " 146,\n",
       " 145,\n",
       " 144,\n",
       " 144,\n",
       " 143,\n",
       " 141,\n",
       " 136,\n",
       " 130]"
      ]
     },
     "execution_count": 402,
     "metadata": {},
     "output_type": "execute_result"
    }
   ],
   "source": [
    "train.grapheme_root.value_counts().tolist() # huge imbalances here"
   ]
  },
  {
   "cell_type": "code",
   "execution_count": 403,
   "metadata": {},
   "outputs": [
    {
     "data": {
      "text/plain": [
       "0     41508\n",
       "1     36886\n",
       "7     28723\n",
       "2     25967\n",
       "4     18848\n",
       "3     16152\n",
       "9     16032\n",
       "5      5297\n",
       "6      4336\n",
       "10     3563\n",
       "8      3528\n",
       "Name: vowel_diacritic, dtype: int64"
      ]
     },
     "execution_count": 403,
     "metadata": {},
     "output_type": "execute_result"
    }
   ],
   "source": [
    "train.vowel_diacritic.value_counts()"
   ]
  },
  {
   "cell_type": "code",
   "execution_count": 404,
   "metadata": {},
   "outputs": [
    {
     "data": {
      "text/plain": [
       "0    125278\n",
       "2     23465\n",
       "5     21397\n",
       "4     21270\n",
       "1      7424\n",
       "6      1387\n",
       "3       619\n",
       "Name: consonant_diacritic, dtype: int64"
      ]
     },
     "execution_count": 404,
     "metadata": {},
     "output_type": "execute_result"
    }
   ],
   "source": [
    "train.consonant_diacritic.value_counts()"
   ]
  },
  {
   "cell_type": "code",
   "execution_count": 418,
   "metadata": {},
   "outputs": [
    {
     "data": {
      "text/plain": [
       "(0     75561\n",
       " 1     67354\n",
       " 7     52072\n",
       " 2     47544\n",
       " 4     34243\n",
       " 3     29998\n",
       " 9     29432\n",
       " 5      9622\n",
       " 6      7924\n",
       " 10     6509\n",
       " 8      6226\n",
       " Name: vowel_diacritic, dtype: int64, 72     10471\n",
       " 64     10188\n",
       " 13      9622\n",
       " 107     9622\n",
       " 23      9622\n",
       "        ...  \n",
       " 87       283\n",
       " 158      283\n",
       " 45       283\n",
       " 73       283\n",
       " 0        283\n",
       " Name: grapheme_root, Length: 168, dtype: int64, 0    228664\n",
       " 2     43016\n",
       " 5     39054\n",
       " 4     38488\n",
       " 1     13584\n",
       " 6      2547\n",
       " 3      1132\n",
       " Name: consonant_diacritic, dtype: int64)"
      ]
     },
     "execution_count": 418,
     "metadata": {},
     "output_type": "execute_result"
    }
   ],
   "source": [
    "from imblearn.over_sampling import RandomOverSampler\n",
    "from collections import Counter\n",
    "\n",
    "# exploring what happens with oversampling\n",
    "# the undersampled roots, vowels, and consonants are all apart of different graphemes.  \n",
    "# so oversampling in one, creates a larger imbalance in the other \n",
    "# e.g., oversampling vowels creates a larger imbalance in consonants\n",
    "# makes this a super annoying problem \n",
    "\n",
    "n_total = len(train)\n",
    "ros = RandomOverSampler(random_state=42)\n",
    "X = train[['image_id',  'grapheme_root', 'vowel_diacritic','consonant_diacritic']]\n",
    "y = train.grapheme\n",
    "\n",
    "X_res, y_res = ros.fit_resample(X, y)\n",
    "X_res = pd.DataFrame(X_res, columns = ['image_id',  'grapheme_root', 'vowel_diacritic','consonant_diacritic'])\n",
    "#print('Resampled dataset shape %s' % Counter(y_res))\n",
    "X_res.vowel_diacritic.value_counts(), X_res.grapheme_root.value_counts(), X_res.consonant_diacritic.value_counts()"
   ]
  },
  {
   "cell_type": "markdown",
   "metadata": {},
   "source": [
    "What we are going to do is regenerate the dataloader after every epoch with a different sample\n",
    "So, that means we create 4 sets of weights such that we draw an equal sample of every class every 4th epoch"
   ]
  },
  {
   "cell_type": "code",
   "execution_count": 479,
   "metadata": {},
   "outputs": [
    {
     "data": {
      "text/plain": [
       "Index(['image_id', 'grapheme_root', 'vowel_diacritic', 'consonant_diacritic',\n",
       "       'grapheme'],\n",
       "      dtype='object')"
      ]
     },
     "execution_count": 479,
     "metadata": {},
     "output_type": "execute_result"
    }
   ],
   "source": [
    "train.columns"
   ]
  },
  {
   "cell_type": "code",
   "execution_count": 511,
   "metadata": {},
   "outputs": [
    {
     "name": "stdout",
     "output_type": "stream",
     "text": [
      "0 consonant_diacritic\n"
     ]
    },
    {
     "name": "stderr",
     "output_type": "stream",
     "text": [
      "C:\\Users\\ABell\\Anaconda3\\lib\\site-packages\\torch\\utils\\data\\sampler.py:115: UserWarning: To copy construct from a tensor, it is recommended to use sourceTensor.clone().detach() or sourceTensor.clone().detach().requires_grad_(True), rather than torch.tensor(sourceTensor).\n",
      "  self.weights = torch.tensor(weights, dtype=torch.double)\n"
     ]
    },
    {
     "name": "stdout",
     "output_type": "stream",
     "text": [
      "x.shape torch.Size([64, 128, 128]), y.shape torch.Size([64, 3])\n",
      "tensor([ 9, 12,  9,  9,  9,  6, 10])\n",
      "x.shape torch.Size([64, 128, 128]), y.shape torch.Size([64, 3])\n",
      "tensor([11,  4,  7, 12,  9, 11, 10])\n",
      "x.shape torch.Size([64, 128, 128]), y.shape torch.Size([64, 3])\n",
      "tensor([ 9,  5, 12,  9, 12, 12,  5])\n",
      "1 grapheme_root\n"
     ]
    },
    {
     "name": "stderr",
     "output_type": "stream",
     "text": [
      "C:\\Users\\ABell\\Anaconda3\\lib\\site-packages\\torch\\utils\\data\\sampler.py:115: UserWarning: To copy construct from a tensor, it is recommended to use sourceTensor.clone().detach() or sourceTensor.clone().detach().requires_grad_(True), rather than torch.tensor(sourceTensor).\n",
      "  self.weights = torch.tensor(weights, dtype=torch.double)\n"
     ]
    },
    {
     "name": "stdout",
     "output_type": "stream",
     "text": [
      "x.shape torch.Size([64, 128, 128]), y.shape torch.Size([64, 3])\n",
      "tensor([1, 1, 2, 1, 1, 1, 1, 1, 1, 1, 1, 1, 1, 1, 1, 2, 1, 1, 2, 2, 2, 1, 1, 1,\n",
      "        1, 1, 1, 1, 1, 1, 1, 1, 1, 1, 2, 3, 1, 1, 1, 1, 1, 1, 1, 2, 1, 1, 1, 1,\n",
      "        2, 2, 1, 1, 1])\n",
      "x.shape torch.Size([64, 128, 128]), y.shape torch.Size([64, 3])\n",
      "tensor([1, 2, 2, 1, 2, 1, 1, 1, 1, 1, 2, 1, 2, 1, 1, 1, 1, 1, 1, 1, 1, 1, 1, 1,\n",
      "        1, 1, 1, 1, 1, 1, 1, 1, 2, 1, 1, 1, 1, 1, 1, 1, 1, 1, 2, 1, 1, 1, 1, 1,\n",
      "        1, 2, 1, 1, 1, 1, 1, 1])\n",
      "x.shape torch.Size([64, 128, 128]), y.shape torch.Size([64, 3])\n",
      "tensor([2, 1, 1, 1, 2, 1, 1, 1, 1, 1, 1, 1, 1, 1, 2, 1, 1, 1, 1, 1, 4, 2, 1, 1,\n",
      "        1, 1, 1, 1, 1, 2, 1, 1, 1, 1, 1, 1, 1, 1, 1, 1, 1, 1, 1, 1, 1, 1, 1, 1,\n",
      "        1, 1, 1, 1, 1, 2, 1])\n",
      "2 vowel_diacritic\n"
     ]
    },
    {
     "name": "stderr",
     "output_type": "stream",
     "text": [
      "C:\\Users\\ABell\\Anaconda3\\lib\\site-packages\\torch\\utils\\data\\sampler.py:115: UserWarning: To copy construct from a tensor, it is recommended to use sourceTensor.clone().detach() or sourceTensor.clone().detach().requires_grad_(True), rather than torch.tensor(sourceTensor).\n",
      "  self.weights = torch.tensor(weights, dtype=torch.double)\n"
     ]
    },
    {
     "name": "stdout",
     "output_type": "stream",
     "text": [
      "x.shape torch.Size([64, 128, 128]), y.shape torch.Size([64, 3])\n",
      "tensor([ 4, 10,  6,  4,  3,  6,  8,  5,  7,  4,  7])\n",
      "x.shape torch.Size([64, 128, 128]), y.shape torch.Size([64, 3])\n",
      "tensor([13,  8,  7,  4,  3,  3,  4,  6,  6,  4,  6])\n",
      "x.shape torch.Size([64, 128, 128]), y.shape torch.Size([64, 3])\n",
      "tensor([3, 6, 9, 8, 2, 4, 6, 9, 4, 9, 4])\n",
      "3 grapheme\n"
     ]
    },
    {
     "name": "stderr",
     "output_type": "stream",
     "text": [
      "C:\\Users\\ABell\\Anaconda3\\lib\\site-packages\\torch\\utils\\data\\sampler.py:115: UserWarning: To copy construct from a tensor, it is recommended to use sourceTensor.clone().detach() or sourceTensor.clone().detach().requires_grad_(True), rather than torch.tensor(sourceTensor).\n",
      "  self.weights = torch.tensor(weights, dtype=torch.double)\n"
     ]
    },
    {
     "name": "stdout",
     "output_type": "stream",
     "text": [
      "x.shape torch.Size([64, 128, 128]), y.shape torch.Size([64, 3])\n",
      "tensor([39,  1,  5, 11,  8])\n",
      "x.shape torch.Size([64, 128, 128]), y.shape torch.Size([64, 3])\n",
      "tensor([40,  1, 10,  7,  6])\n",
      "x.shape torch.Size([64, 128, 128]), y.shape torch.Size([64, 3])\n",
      "tensor([42,  8,  5,  9])\n",
      "4 consonant_diacritic\n"
     ]
    },
    {
     "name": "stderr",
     "output_type": "stream",
     "text": [
      "C:\\Users\\ABell\\Anaconda3\\lib\\site-packages\\torch\\utils\\data\\sampler.py:115: UserWarning: To copy construct from a tensor, it is recommended to use sourceTensor.clone().detach() or sourceTensor.clone().detach().requires_grad_(True), rather than torch.tensor(sourceTensor).\n",
      "  self.weights = torch.tensor(weights, dtype=torch.double)\n"
     ]
    },
    {
     "name": "stdout",
     "output_type": "stream",
     "text": [
      "x.shape torch.Size([64, 128, 128]), y.shape torch.Size([64, 3])\n",
      "tensor([12,  7,  9,  9,  7,  7, 13])\n",
      "x.shape torch.Size([64, 128, 128]), y.shape torch.Size([64, 3])\n",
      "tensor([ 7,  7,  6, 10,  8, 11, 15])\n",
      "x.shape torch.Size([64, 128, 128]), y.shape torch.Size([64, 3])\n",
      "tensor([ 8,  9,  9,  8,  9,  7, 14])\n",
      "5 grapheme_root\n"
     ]
    },
    {
     "name": "stderr",
     "output_type": "stream",
     "text": [
      "C:\\Users\\ABell\\Anaconda3\\lib\\site-packages\\torch\\utils\\data\\sampler.py:115: UserWarning: To copy construct from a tensor, it is recommended to use sourceTensor.clone().detach() or sourceTensor.clone().detach().requires_grad_(True), rather than torch.tensor(sourceTensor).\n",
      "  self.weights = torch.tensor(weights, dtype=torch.double)\n"
     ]
    },
    {
     "name": "stdout",
     "output_type": "stream",
     "text": [
      "x.shape torch.Size([64, 128, 128]), y.shape torch.Size([64, 3])\n",
      "tensor([1, 1, 1, 1, 3, 1, 1, 1, 2, 1, 1, 1, 1, 2, 1, 1, 1, 1, 1, 2, 1, 1, 2, 1,\n",
      "        1, 1, 1, 1, 1, 1, 1, 1, 2, 1, 1, 2, 1, 2, 2, 1, 1, 1, 1, 1, 1, 1, 1, 1,\n",
      "        2, 1, 1, 1, 1])\n",
      "x.shape torch.Size([64, 128, 128]), y.shape torch.Size([64, 3])\n",
      "tensor([1, 1, 1, 2, 1, 3, 1, 1, 1, 1, 2, 2, 2, 1, 1, 1, 1, 1, 1, 1, 1, 1, 1, 2,\n",
      "        2, 1, 1, 1, 1, 1, 1, 1, 1, 3, 1, 1, 1, 1, 1, 1, 2, 1, 1, 1, 1, 1, 1, 1,\n",
      "        1, 2, 1, 1])\n",
      "x.shape torch.Size([64, 128, 128]), y.shape torch.Size([64, 3])\n",
      "tensor([1, 1, 1, 2, 1, 1, 1, 2, 1, 1, 1, 1, 1, 1, 1, 2, 1, 3, 1, 1, 2, 1, 2, 1,\n",
      "        1, 1, 2, 1, 2, 1, 1, 1, 1, 1, 1, 1, 1, 2, 2, 3, 1, 1, 1, 2, 2, 1, 1, 2])\n",
      "6 vowel_diacritic\n"
     ]
    },
    {
     "name": "stderr",
     "output_type": "stream",
     "text": [
      "C:\\Users\\ABell\\Anaconda3\\lib\\site-packages\\torch\\utils\\data\\sampler.py:115: UserWarning: To copy construct from a tensor, it is recommended to use sourceTensor.clone().detach() or sourceTensor.clone().detach().requires_grad_(True), rather than torch.tensor(sourceTensor).\n",
      "  self.weights = torch.tensor(weights, dtype=torch.double)\n"
     ]
    },
    {
     "name": "stdout",
     "output_type": "stream",
     "text": [
      "x.shape torch.Size([64, 128, 128]), y.shape torch.Size([64, 3])\n",
      "tensor([ 5, 11,  4,  6,  7,  5,  4,  5,  7,  6,  4])\n",
      "x.shape torch.Size([64, 128, 128]), y.shape torch.Size([64, 3])\n",
      "tensor([9, 5, 5, 6, 4, 9, 5, 3, 5, 7, 6])\n",
      "x.shape torch.Size([64, 128, 128]), y.shape torch.Size([64, 3])\n",
      "tensor([ 6,  4,  4,  6,  8,  3,  7,  9,  5,  2, 10])\n",
      "7 grapheme\n"
     ]
    },
    {
     "name": "stderr",
     "output_type": "stream",
     "text": [
      "C:\\Users\\ABell\\Anaconda3\\lib\\site-packages\\torch\\utils\\data\\sampler.py:115: UserWarning: To copy construct from a tensor, it is recommended to use sourceTensor.clone().detach() or sourceTensor.clone().detach().requires_grad_(True), rather than torch.tensor(sourceTensor).\n",
      "  self.weights = torch.tensor(weights, dtype=torch.double)\n"
     ]
    },
    {
     "name": "stdout",
     "output_type": "stream",
     "text": [
      "x.shape torch.Size([64, 128, 128]), y.shape torch.Size([64, 3])\n",
      "tensor([40,  2,  6, 12,  4])\n",
      "x.shape torch.Size([64, 128, 128]), y.shape torch.Size([64, 3])\n",
      "tensor([44,  5,  5, 10])\n",
      "x.shape torch.Size([64, 128, 128]), y.shape torch.Size([64, 3])\n",
      "tensor([34,  7, 13, 10])\n"
     ]
    }
   ],
   "source": [
    "from torch.utils.data.sampler import WeightedRandomSampler\n",
    "import itertools\n",
    "\n",
    "def genWeightTensor(column, train):\n",
    "    class_counts = train[column].value_counts()\n",
    "    weight = 1 / class_counts\n",
    "    return torch.tensor([weight[t] for t in train[column]])\n",
    "\n",
    "consonant_weights = genWeightTensor(\"consonant_diacritic\", train[:len(crop_rsz_img)])\n",
    "root_weights = genWeightTensor(\"grapheme_root\", train[:len(crop_rsz_img)])\n",
    "vowel_weights = genWeightTensor(\"vowel_diacritic\", train[:len(crop_rsz_img)])\n",
    "grapheme_weights = genWeightTensor(\"grapheme\", train[:len(crop_rsz_img)])\n",
    "\n",
    "weights = {\"consonant_diacritic\": consonant_weights,\n",
    "           \"grapheme_root\": root_weights,\n",
    "           \"vowel_diacritic\": vowel_weights,\n",
    "           \"grapheme\": grapheme_weights}\n",
    "\n",
    "keys = list(weights.keys())\n",
    "\n",
    "for i, key in zip(range(8), itertools.cycle(keys)):\n",
    "    print(i, key)\n",
    "    \n",
    "    # generate sampler and loader specific to epoch\n",
    "    w = weights[key]\n",
    "    sampler = WeightedRandomSampler(w, len(w))\n",
    "    train_loader = DataLoader(dataset, batch_size=64, sampler=sampler)\n",
    "    \n",
    "    for j, (x, y) in enumerate(train_loader):\n",
    "        print(\"x.shape {}, y.shape {}\".format(x.shape, y.shape))\n",
    "        col = train.columns.get_loc(key) -1 if key != \"grapheme\" else 2\n",
    "        class_count =  torch.tensor([(y[:,col] == t).sum() for t in torch.unique(y[:,col], sorted=True)])\n",
    "        print(class_count)\n",
    "        if j == 2:\n",
    "            break\n",
    "\n",
    "# sweet this looks like it is working exactly as intended"
   ]
  },
  {
   "cell_type": "markdown",
   "metadata": {},
   "source": [
    "## Main Function: Gen and Load Dataset\n",
    "Runs the entire process: imports, crop and resize, generate and return the pytorch dataset "
   ]
  },
  {
   "cell_type": "code",
   "execution_count": null,
   "metadata": {},
   "outputs": [],
   "source": [
    "# Note that right now it is only set up for loading the training data\n",
    "def genDataset(data_type = \"train\", balance_classes = \"word\"):\n",
    "    assert data_type in [\"train\", \"test\"]\n",
    "    assert balance_classes in ['character', 'word', None]\n",
    "    submit_val = True\n",
    "    \n",
    "    # Load our data\n",
    "    if data_type == \"train\":\n",
    "        train = pd.read_csv(datadir+'/train.csv')\n",
    "        train_labels = train[['grapheme_root', 'vowel_diacritic', 'consonant_diacritic']].values\n",
    "        submit_val = False\n",
    "        \n",
    "    indices = [0, 1, 2, 3]\n",
    "    images = prepare_image(inputdir, data_type=data_type, submission=submit_val, indices=indices)\n",
    "    \n",
    "    # run our crop and resize functions\n",
    "    crop_rsz_img = runCropRsz(images)\n",
    "\n",
    "    # init augmentation pipeline\n",
    "    augmentation = augPipeline()\n",
    "\n",
    "    # generate our dataset\n",
    "    dataset = BengaliAIDataset(crop_rsz_img, labels = train_labels, transform = augmentation)  \n",
    "    \n",
    "    return dataset"
   ]
  },
  {
   "cell_type": "code",
   "execution_count": null,
   "metadata": {},
   "outputs": [],
   "source": []
  },
  {
   "cell_type": "code",
   "execution_count": null,
   "metadata": {},
   "outputs": [],
   "source": []
  },
  {
   "cell_type": "code",
   "execution_count": null,
   "metadata": {},
   "outputs": [],
   "source": []
  }
 ],
 "metadata": {
  "kernelspec": {
   "display_name": "Python 3",
   "language": "python",
   "name": "python3"
  },
  "language_info": {
   "codemirror_mode": {
    "name": "ipython",
    "version": 3
   },
   "file_extension": ".py",
   "mimetype": "text/x-python",
   "name": "python",
   "nbconvert_exporter": "python",
   "pygments_lexer": "ipython3",
   "version": "3.7.0"
  }
 },
 "nbformat": 4,
 "nbformat_minor": 2
}
